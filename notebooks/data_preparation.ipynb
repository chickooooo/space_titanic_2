{
 "cells": [
  {
   "cell_type": "code",
   "execution_count": 1,
   "metadata": {},
   "outputs": [],
   "source": [
    "import pandas as pd\n",
    "import numpy as np\n",
    "from matplotlib import pyplot as plt\n",
    "import seaborn as sns\n",
    "sns.set(color_codes=True)\n",
    "from sklearn.model_selection import train_test_split"
   ]
  },
  {
   "cell_type": "code",
   "execution_count": 2,
   "metadata": {},
   "outputs": [],
   "source": [
    "# reading data\n",
    "data = pd.read_csv(\"../data/train.csv\")\n",
    "\n",
    "# changing column names\n",
    "new_columns = [\"passenger_id\", \"home_planet\", \"cryo_sleep\", \"cabin\", \"destination\", \"age\", \"vip\", \"room_service\", \"food_court\", \"shopping_mall\", \"spa\", \"vr_deck\", \"name\", \"transported\"]\n",
    "data.columns = new_columns\n",
    "\n",
    "# seperating X and y\n",
    "X = data.drop([\"transported\"], axis=1)\n",
    "y = data.transported"
   ]
  },
  {
   "cell_type": "code",
   "execution_count": 3,
   "metadata": {},
   "outputs": [
    {
     "data": {
      "text/html": [
       "<div>\n",
       "<style scoped>\n",
       "    .dataframe tbody tr th:only-of-type {\n",
       "        vertical-align: middle;\n",
       "    }\n",
       "\n",
       "    .dataframe tbody tr th {\n",
       "        vertical-align: top;\n",
       "    }\n",
       "\n",
       "    .dataframe thead th {\n",
       "        text-align: right;\n",
       "    }\n",
       "</style>\n",
       "<table border=\"1\" class=\"dataframe\">\n",
       "  <thead>\n",
       "    <tr style=\"text-align: right;\">\n",
       "      <th></th>\n",
       "      <th>passenger_id</th>\n",
       "      <th>home_planet</th>\n",
       "      <th>cryo_sleep</th>\n",
       "      <th>cabin</th>\n",
       "      <th>destination</th>\n",
       "      <th>age</th>\n",
       "      <th>vip</th>\n",
       "      <th>room_service</th>\n",
       "      <th>food_court</th>\n",
       "      <th>shopping_mall</th>\n",
       "      <th>spa</th>\n",
       "      <th>vr_deck</th>\n",
       "      <th>name</th>\n",
       "    </tr>\n",
       "  </thead>\n",
       "  <tbody>\n",
       "    <tr>\n",
       "      <th>0</th>\n",
       "      <td>0001_01</td>\n",
       "      <td>Europa</td>\n",
       "      <td>False</td>\n",
       "      <td>B/0/P</td>\n",
       "      <td>TRAPPIST-1e</td>\n",
       "      <td>39.0</td>\n",
       "      <td>False</td>\n",
       "      <td>0.0</td>\n",
       "      <td>0.0</td>\n",
       "      <td>0.0</td>\n",
       "      <td>0.0</td>\n",
       "      <td>0.0</td>\n",
       "      <td>Maham Ofracculy</td>\n",
       "    </tr>\n",
       "    <tr>\n",
       "      <th>1</th>\n",
       "      <td>0002_01</td>\n",
       "      <td>Earth</td>\n",
       "      <td>False</td>\n",
       "      <td>F/0/S</td>\n",
       "      <td>TRAPPIST-1e</td>\n",
       "      <td>24.0</td>\n",
       "      <td>False</td>\n",
       "      <td>109.0</td>\n",
       "      <td>9.0</td>\n",
       "      <td>25.0</td>\n",
       "      <td>549.0</td>\n",
       "      <td>44.0</td>\n",
       "      <td>Juanna Vines</td>\n",
       "    </tr>\n",
       "    <tr>\n",
       "      <th>2</th>\n",
       "      <td>0003_01</td>\n",
       "      <td>Europa</td>\n",
       "      <td>False</td>\n",
       "      <td>A/0/S</td>\n",
       "      <td>TRAPPIST-1e</td>\n",
       "      <td>58.0</td>\n",
       "      <td>True</td>\n",
       "      <td>43.0</td>\n",
       "      <td>3576.0</td>\n",
       "      <td>0.0</td>\n",
       "      <td>6715.0</td>\n",
       "      <td>49.0</td>\n",
       "      <td>Altark Susent</td>\n",
       "    </tr>\n",
       "    <tr>\n",
       "      <th>3</th>\n",
       "      <td>0003_02</td>\n",
       "      <td>Europa</td>\n",
       "      <td>False</td>\n",
       "      <td>A/0/S</td>\n",
       "      <td>TRAPPIST-1e</td>\n",
       "      <td>33.0</td>\n",
       "      <td>False</td>\n",
       "      <td>0.0</td>\n",
       "      <td>1283.0</td>\n",
       "      <td>371.0</td>\n",
       "      <td>3329.0</td>\n",
       "      <td>193.0</td>\n",
       "      <td>Solam Susent</td>\n",
       "    </tr>\n",
       "    <tr>\n",
       "      <th>4</th>\n",
       "      <td>0004_01</td>\n",
       "      <td>Earth</td>\n",
       "      <td>False</td>\n",
       "      <td>F/1/S</td>\n",
       "      <td>TRAPPIST-1e</td>\n",
       "      <td>16.0</td>\n",
       "      <td>False</td>\n",
       "      <td>303.0</td>\n",
       "      <td>70.0</td>\n",
       "      <td>151.0</td>\n",
       "      <td>565.0</td>\n",
       "      <td>2.0</td>\n",
       "      <td>Willy Santantines</td>\n",
       "    </tr>\n",
       "  </tbody>\n",
       "</table>\n",
       "</div>"
      ],
      "text/plain": [
       "  passenger_id home_planet cryo_sleep  cabin  destination   age    vip  \\\n",
       "0      0001_01      Europa      False  B/0/P  TRAPPIST-1e  39.0  False   \n",
       "1      0002_01       Earth      False  F/0/S  TRAPPIST-1e  24.0  False   \n",
       "2      0003_01      Europa      False  A/0/S  TRAPPIST-1e  58.0   True   \n",
       "3      0003_02      Europa      False  A/0/S  TRAPPIST-1e  33.0  False   \n",
       "4      0004_01       Earth      False  F/1/S  TRAPPIST-1e  16.0  False   \n",
       "\n",
       "   room_service  food_court  shopping_mall     spa  vr_deck               name  \n",
       "0           0.0         0.0            0.0     0.0      0.0    Maham Ofracculy  \n",
       "1         109.0         9.0           25.0   549.0     44.0       Juanna Vines  \n",
       "2          43.0      3576.0            0.0  6715.0     49.0      Altark Susent  \n",
       "3           0.0      1283.0          371.0  3329.0    193.0       Solam Susent  \n",
       "4         303.0        70.0          151.0   565.0      2.0  Willy Santantines  "
      ]
     },
     "execution_count": 3,
     "metadata": {},
     "output_type": "execute_result"
    }
   ],
   "source": [
    "X.head()"
   ]
  },
  {
   "cell_type": "code",
   "execution_count": 4,
   "metadata": {},
   "outputs": [
    {
     "data": {
      "text/plain": [
       "0    False\n",
       "1     True\n",
       "2    False\n",
       "3    False\n",
       "4     True\n",
       "Name: transported, dtype: bool"
      ]
     },
     "execution_count": 4,
     "metadata": {},
     "output_type": "execute_result"
    }
   ],
   "source": [
    "y.head()"
   ]
  },
  {
   "cell_type": "code",
   "execution_count": 5,
   "metadata": {},
   "outputs": [],
   "source": [
    "# splitting data into training and testing set\n",
    "x_train, x_test, y_train, y_test = train_test_split(X, y, test_size=0.1, shuffle=True, random_state=42)"
   ]
  },
  {
   "cell_type": "code",
   "execution_count": 6,
   "metadata": {},
   "outputs": [
    {
     "name": "stdout",
     "output_type": "stream",
     "text": [
      "(7823, 13)\n",
      "(870, 13)\n",
      "(7823,)\n",
      "(870,)\n"
     ]
    }
   ],
   "source": [
    "print(x_train.shape)\n",
    "print(x_test.shape)\n",
    "print(y_train.shape)\n",
    "print(y_test.shape)"
   ]
  },
  {
   "attachments": {},
   "cell_type": "markdown",
   "metadata": {},
   "source": [
    "<br>\n",
    "<br>\n",
    "<br>"
   ]
  },
  {
   "cell_type": "code",
   "execution_count": 7,
   "metadata": {},
   "outputs": [],
   "source": [
    "# passenger_id\n",
    "passenger_id = x_train.passenger_id\n",
    "\n",
    "# seperating group and number in group\n",
    "group: pd.Series = passenger_id.apply(lambda x: int(x.split(\"_\")[0]))\n",
    "number_in_group: pd.Series = passenger_id.apply(lambda x: int(x.split(\"_\")[1]))"
   ]
  },
  {
   "cell_type": "code",
   "execution_count": 8,
   "metadata": {},
   "outputs": [],
   "source": [
    "# home_planet\n",
    "home_planet = x_train.home_planet\n",
    "\n",
    "# filling 201 null values with mode\n",
    "home_planet.fillna(value = home_planet.mode()[0], inplace=True)"
   ]
  },
  {
   "cell_type": "code",
   "execution_count": 9,
   "metadata": {},
   "outputs": [],
   "source": [
    "# cryo_sleep\n",
    "cryo_sleep = x_train.cryo_sleep\n",
    "\n",
    "# filling 217 null values with mode\n",
    "cryo_sleep.fillna(value = cryo_sleep.mode()[0], inplace=True)"
   ]
  },
  {
   "cell_type": "code",
   "execution_count": 10,
   "metadata": {},
   "outputs": [],
   "source": [
    "# cabin\n",
    "cabin = x_train.cabin\n",
    "\n",
    "# seperating deck, num and side\n",
    "deck = cabin.apply(lambda x: x.split(\"/\")[0] if pd.notna(x) else x)\n",
    "num_in_cabin = cabin.apply(lambda x: x.split(\"/\")[1] if pd.notna(x) else x)\n",
    "side = cabin.apply(lambda x: x.split(\"/\")[2] if pd.notna(x) else x)\n",
    "\n",
    "# filling 199 null values\n",
    "deck.fillna(value = deck.mode()[0], inplace=True)\n",
    "num_in_cabin.fillna(value = 0, inplace=True)\n",
    "side.fillna(value = side.mode()[0], inplace=True)"
   ]
  },
  {
   "cell_type": "code",
   "execution_count": 11,
   "metadata": {},
   "outputs": [],
   "source": [
    "# destination\n",
    "destination = x_train.destination\n",
    "\n",
    "# filling 182 null values with mode\n",
    "destination.fillna(value = destination.mode()[0], inplace=True)"
   ]
  },
  {
   "cell_type": "code",
   "execution_count": 12,
   "metadata": {},
   "outputs": [],
   "source": [
    "# vip\n",
    "vip = x_train.vip\n",
    "\n",
    "# filling 203 null values with mode\n",
    "vip.fillna(value = vip.mode()[0], inplace=True)"
   ]
  },
  {
   "cell_type": "code",
   "execution_count": 13,
   "metadata": {},
   "outputs": [],
   "source": [
    "# age\n",
    "age = x_train.age\n",
    "\n",
    "# filling 179 null values with median\n",
    "age.fillna(value = age.median(), inplace=True)"
   ]
  },
  {
   "cell_type": "code",
   "execution_count": 14,
   "metadata": {},
   "outputs": [],
   "source": [
    "# spendings\n",
    "room_service = x_train.room_service\n",
    "food_court = x_train.food_court\n",
    "shopping_mall = x_train.shopping_mall\n",
    "spa = x_train.spa\n",
    "vr_deck = x_train.vr_deck\n",
    "\n",
    "# filling null values with 0.0\n",
    "room_service.fillna(value=0.0, inplace=True)\n",
    "food_court.fillna(value=0.0, inplace=True)\n",
    "shopping_mall.fillna(value=0.0, inplace=True)\n",
    "spa.fillna(value=0.0, inplace=True)\n",
    "vr_deck.fillna(value=0.0, inplace=True)"
   ]
  },
  {
   "cell_type": "code",
   "execution_count": 15,
   "metadata": {},
   "outputs": [],
   "source": [
    "# total_spending\n",
    "total_spending = room_service + food_court + shopping_mall + spa + vr_deck"
   ]
  },
  {
   "attachments": {},
   "cell_type": "markdown",
   "metadata": {},
   "source": [
    "<br>\n",
    "<br>\n",
    "<br>"
   ]
  },
  {
   "attachments": {},
   "cell_type": "markdown",
   "metadata": {},
   "source": [
    "#### Feature Engineering"
   ]
  },
  {
   "cell_type": "code",
   "execution_count": 16,
   "metadata": {},
   "outputs": [],
   "source": [
    "# age categories\n",
    "def get_age_category(age: float) -> str:\n",
    "    if age <= 16:\n",
    "        return \"child\"\n",
    "    elif age <= 30:\n",
    "        return \"young_adult\"\n",
    "    elif age <= 45:\n",
    "        return \"middle_adult\"\n",
    "    else:\n",
    "        return \"old_adult\"\n",
    "\n",
    "age_category = age.apply(lambda x: get_age_category(x))"
   ]
  },
  {
   "cell_type": "code",
   "execution_count": 19,
   "metadata": {},
   "outputs": [],
   "source": [
    "# gender from name\n",
    "def get_gender(name: str) -> int:\n",
    "    if pd.isna(name):\n",
    "        return np.nan\n",
    "    if name.split(\" \")[0][-1] in [\"a\", \"e\", \"i\", \"y\"]:\n",
    "        return 0\n",
    "    else:\n",
    "        return 1\n",
    "\n",
    "gender = x_train.name.apply(lambda x: get_gender(x))\n",
    "\n",
    "# filling null values with 1.0\n",
    "gender.fillna(value=1.0, inplace=True)"
   ]
  },
  {
   "attachments": {},
   "cell_type": "markdown",
   "metadata": {},
   "source": [
    "<br>\n",
    "<br>"
   ]
  },
  {
   "cell_type": "code",
   "execution_count": 33,
   "metadata": {},
   "outputs": [],
   "source": [
    "X_prepared = pd.DataFrame()\n",
    "\n",
    "X_prepared[\"group\"] = group\n",
    "X_prepared[\"number_in_group\"] = number_in_group\n",
    "X_prepared[\"home_planet\"] = home_planet\n",
    "X_prepared[\"cryo_sleep\"] = cryo_sleep\n",
    "X_prepared[\"deck\"] = deck\n",
    "X_prepared[\"num_in_cabin\"] = num_in_cabin\n",
    "X_prepared[\"side\"] = side\n",
    "X_prepared[\"destination\"] = destination\n",
    "X_prepared[\"age\"] = age\n",
    "X_prepared[\"vip\"] = vip\n",
    "X_prepared[\"room_service\"] = room_service\n",
    "X_prepared[\"food_court\"] = food_court\n",
    "X_prepared[\"shopping_mall\"] = shopping_mall\n",
    "X_prepared[\"spa\"] = spa\n",
    "X_prepared[\"vr_deck\"] = vr_deck\n",
    "X_prepared[\"total_spending\"] = total_spending\n",
    "X_prepared[\"age_category\"] = age_category\n",
    "X_prepared[\"gender\"] = gender"
   ]
  },
  {
   "cell_type": "code",
   "execution_count": 34,
   "metadata": {},
   "outputs": [
    {
     "data": {
      "text/html": [
       "<div>\n",
       "<style scoped>\n",
       "    .dataframe tbody tr th:only-of-type {\n",
       "        vertical-align: middle;\n",
       "    }\n",
       "\n",
       "    .dataframe tbody tr th {\n",
       "        vertical-align: top;\n",
       "    }\n",
       "\n",
       "    .dataframe thead th {\n",
       "        text-align: right;\n",
       "    }\n",
       "</style>\n",
       "<table border=\"1\" class=\"dataframe\">\n",
       "  <thead>\n",
       "    <tr style=\"text-align: right;\">\n",
       "      <th></th>\n",
       "      <th>group</th>\n",
       "      <th>number_in_group</th>\n",
       "      <th>home_planet</th>\n",
       "      <th>cryo_sleep</th>\n",
       "      <th>deck</th>\n",
       "      <th>num_in_cabin</th>\n",
       "      <th>side</th>\n",
       "      <th>destination</th>\n",
       "      <th>age</th>\n",
       "      <th>vip</th>\n",
       "      <th>room_service</th>\n",
       "      <th>food_court</th>\n",
       "      <th>shopping_mall</th>\n",
       "      <th>spa</th>\n",
       "      <th>vr_deck</th>\n",
       "      <th>total_spending</th>\n",
       "      <th>age_category</th>\n",
       "      <th>gender</th>\n",
       "    </tr>\n",
       "  </thead>\n",
       "  <tbody>\n",
       "    <tr>\n",
       "      <th>1432</th>\n",
       "      <td>1510</td>\n",
       "      <td>1</td>\n",
       "      <td>Mars</td>\n",
       "      <td>False</td>\n",
       "      <td>F</td>\n",
       "      <td>291</td>\n",
       "      <td>S</td>\n",
       "      <td>TRAPPIST-1e</td>\n",
       "      <td>31.0</td>\n",
       "      <td>False</td>\n",
       "      <td>1226.0</td>\n",
       "      <td>0.0</td>\n",
       "      <td>1.0</td>\n",
       "      <td>0.0</td>\n",
       "      <td>0.0</td>\n",
       "      <td>1227.0</td>\n",
       "      <td>middle_adult</td>\n",
       "      <td>1.0</td>\n",
       "    </tr>\n",
       "    <tr>\n",
       "      <th>6858</th>\n",
       "      <td>7253</td>\n",
       "      <td>1</td>\n",
       "      <td>Europa</td>\n",
       "      <td>False</td>\n",
       "      <td>D</td>\n",
       "      <td>225</td>\n",
       "      <td>P</td>\n",
       "      <td>TRAPPIST-1e</td>\n",
       "      <td>26.0</td>\n",
       "      <td>False</td>\n",
       "      <td>0.0</td>\n",
       "      <td>896.0</td>\n",
       "      <td>0.0</td>\n",
       "      <td>690.0</td>\n",
       "      <td>1.0</td>\n",
       "      <td>1587.0</td>\n",
       "      <td>young_adult</td>\n",
       "      <td>1.0</td>\n",
       "    </tr>\n",
       "    <tr>\n",
       "      <th>4436</th>\n",
       "      <td>4714</td>\n",
       "      <td>1</td>\n",
       "      <td>Earth</td>\n",
       "      <td>True</td>\n",
       "      <td>G</td>\n",
       "      <td>765</td>\n",
       "      <td>P</td>\n",
       "      <td>TRAPPIST-1e</td>\n",
       "      <td>24.0</td>\n",
       "      <td>False</td>\n",
       "      <td>0.0</td>\n",
       "      <td>0.0</td>\n",
       "      <td>0.0</td>\n",
       "      <td>0.0</td>\n",
       "      <td>0.0</td>\n",
       "      <td>0.0</td>\n",
       "      <td>young_adult</td>\n",
       "      <td>1.0</td>\n",
       "    </tr>\n",
       "    <tr>\n",
       "      <th>7230</th>\n",
       "      <td>7727</td>\n",
       "      <td>1</td>\n",
       "      <td>Earth</td>\n",
       "      <td>False</td>\n",
       "      <td>E</td>\n",
       "      <td>507</td>\n",
       "      <td>S</td>\n",
       "      <td>55 Cancri e</td>\n",
       "      <td>33.0</td>\n",
       "      <td>False</td>\n",
       "      <td>0.0</td>\n",
       "      <td>0.0</td>\n",
       "      <td>0.0</td>\n",
       "      <td>436.0</td>\n",
       "      <td>224.0</td>\n",
       "      <td>660.0</td>\n",
       "      <td>middle_adult</td>\n",
       "      <td>0.0</td>\n",
       "    </tr>\n",
       "    <tr>\n",
       "      <th>2992</th>\n",
       "      <td>3237</td>\n",
       "      <td>1</td>\n",
       "      <td>Mars</td>\n",
       "      <td>False</td>\n",
       "      <td>D</td>\n",
       "      <td>104</td>\n",
       "      <td>P</td>\n",
       "      <td>TRAPPIST-1e</td>\n",
       "      <td>21.0</td>\n",
       "      <td>False</td>\n",
       "      <td>1097.0</td>\n",
       "      <td>0.0</td>\n",
       "      <td>80.0</td>\n",
       "      <td>589.0</td>\n",
       "      <td>0.0</td>\n",
       "      <td>1766.0</td>\n",
       "      <td>young_adult</td>\n",
       "      <td>1.0</td>\n",
       "    </tr>\n",
       "  </tbody>\n",
       "</table>\n",
       "</div>"
      ],
      "text/plain": [
       "      group  number_in_group home_planet  cryo_sleep deck num_in_cabin side  \\\n",
       "1432   1510                1        Mars       False    F          291    S   \n",
       "6858   7253                1      Europa       False    D          225    P   \n",
       "4436   4714                1       Earth        True    G          765    P   \n",
       "7230   7727                1       Earth       False    E          507    S   \n",
       "2992   3237                1        Mars       False    D          104    P   \n",
       "\n",
       "      destination   age    vip  room_service  food_court  shopping_mall  \\\n",
       "1432  TRAPPIST-1e  31.0  False        1226.0         0.0            1.0   \n",
       "6858  TRAPPIST-1e  26.0  False           0.0       896.0            0.0   \n",
       "4436  TRAPPIST-1e  24.0  False           0.0         0.0            0.0   \n",
       "7230  55 Cancri e  33.0  False           0.0         0.0            0.0   \n",
       "2992  TRAPPIST-1e  21.0  False        1097.0         0.0           80.0   \n",
       "\n",
       "        spa  vr_deck  total_spending  age_category  gender  \n",
       "1432    0.0      0.0          1227.0  middle_adult     1.0  \n",
       "6858  690.0      1.0          1587.0   young_adult     1.0  \n",
       "4436    0.0      0.0             0.0   young_adult     1.0  \n",
       "7230  436.0    224.0           660.0  middle_adult     0.0  \n",
       "2992  589.0      0.0          1766.0   young_adult     1.0  "
      ]
     },
     "execution_count": 34,
     "metadata": {},
     "output_type": "execute_result"
    }
   ],
   "source": [
    "X_prepared.head()"
   ]
  },
  {
   "cell_type": "code",
   "execution_count": null,
   "metadata": {},
   "outputs": [],
   "source": []
  }
 ],
 "metadata": {
  "kernelspec": {
   "display_name": "machine_learning",
   "language": "python",
   "name": "python3"
  },
  "language_info": {
   "codemirror_mode": {
    "name": "ipython",
    "version": 3
   },
   "file_extension": ".py",
   "mimetype": "text/x-python",
   "name": "python",
   "nbconvert_exporter": "python",
   "pygments_lexer": "ipython3",
   "version": "3.10.8"
  },
  "orig_nbformat": 4,
  "vscode": {
   "interpreter": {
    "hash": "7e9e12bc012fae32ac9654bb37cb31a0d4c91164effa766e52fa90ec4ccf2e77"
   }
  }
 },
 "nbformat": 4,
 "nbformat_minor": 2
}
