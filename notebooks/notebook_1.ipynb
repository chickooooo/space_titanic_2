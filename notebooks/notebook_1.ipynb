{
 "cells": [
  {
   "cell_type": "code",
   "execution_count": 1,
   "metadata": {},
   "outputs": [],
   "source": [
    "import pandas as pd\n",
    "import numpy as np\n",
    "from matplotlib import pyplot as plt\n",
    "import seaborn as sns\n",
    "sns.set(color_codes=True)"
   ]
  },
  {
   "attachments": {},
   "cell_type": "markdown",
   "metadata": {},
   "source": [
    "<br>\n",
    "<br>\n",
    "<br>"
   ]
  },
  {
   "attachments": {},
   "cell_type": "markdown",
   "metadata": {},
   "source": [
    "#### Data collection"
   ]
  },
  {
   "cell_type": "code",
   "execution_count": 2,
   "metadata": {},
   "outputs": [],
   "source": [
    "# reading data\n",
    "data = pd.read_csv(\"../data/train.csv\")\n",
    "\n",
    "# changing column names\n",
    "new_columns = [\"passenger_id\", \"home_planet\", \"cryo_sleep\", \"cabin\", \"destination\", \"age\", \"vip\", \"room_service\", \"food_court\", \"shopping_mall\", \"spa\", \"vr_deck\", \"name\", \"transported\"]\n",
    "data.columns = new_columns\n",
    "\n",
    "# seperating X and y\n",
    "X = data.drop([\"transported\"], axis=1)\n",
    "y = data.transported"
   ]
  },
  {
   "cell_type": "code",
   "execution_count": 3,
   "metadata": {},
   "outputs": [
    {
     "data": {
      "text/html": [
       "<div>\n",
       "<style scoped>\n",
       "    .dataframe tbody tr th:only-of-type {\n",
       "        vertical-align: middle;\n",
       "    }\n",
       "\n",
       "    .dataframe tbody tr th {\n",
       "        vertical-align: top;\n",
       "    }\n",
       "\n",
       "    .dataframe thead th {\n",
       "        text-align: right;\n",
       "    }\n",
       "</style>\n",
       "<table border=\"1\" class=\"dataframe\">\n",
       "  <thead>\n",
       "    <tr style=\"text-align: right;\">\n",
       "      <th></th>\n",
       "      <th>passenger_id</th>\n",
       "      <th>home_planet</th>\n",
       "      <th>cryo_sleep</th>\n",
       "      <th>cabin</th>\n",
       "      <th>destination</th>\n",
       "      <th>age</th>\n",
       "      <th>vip</th>\n",
       "      <th>room_service</th>\n",
       "      <th>food_court</th>\n",
       "      <th>shopping_mall</th>\n",
       "      <th>spa</th>\n",
       "      <th>vr_deck</th>\n",
       "      <th>name</th>\n",
       "    </tr>\n",
       "  </thead>\n",
       "  <tbody>\n",
       "    <tr>\n",
       "      <th>0</th>\n",
       "      <td>0001_01</td>\n",
       "      <td>Europa</td>\n",
       "      <td>False</td>\n",
       "      <td>B/0/P</td>\n",
       "      <td>TRAPPIST-1e</td>\n",
       "      <td>39.0</td>\n",
       "      <td>False</td>\n",
       "      <td>0.0</td>\n",
       "      <td>0.0</td>\n",
       "      <td>0.0</td>\n",
       "      <td>0.0</td>\n",
       "      <td>0.0</td>\n",
       "      <td>Maham Ofracculy</td>\n",
       "    </tr>\n",
       "    <tr>\n",
       "      <th>1</th>\n",
       "      <td>0002_01</td>\n",
       "      <td>Earth</td>\n",
       "      <td>False</td>\n",
       "      <td>F/0/S</td>\n",
       "      <td>TRAPPIST-1e</td>\n",
       "      <td>24.0</td>\n",
       "      <td>False</td>\n",
       "      <td>109.0</td>\n",
       "      <td>9.0</td>\n",
       "      <td>25.0</td>\n",
       "      <td>549.0</td>\n",
       "      <td>44.0</td>\n",
       "      <td>Juanna Vines</td>\n",
       "    </tr>\n",
       "    <tr>\n",
       "      <th>2</th>\n",
       "      <td>0003_01</td>\n",
       "      <td>Europa</td>\n",
       "      <td>False</td>\n",
       "      <td>A/0/S</td>\n",
       "      <td>TRAPPIST-1e</td>\n",
       "      <td>58.0</td>\n",
       "      <td>True</td>\n",
       "      <td>43.0</td>\n",
       "      <td>3576.0</td>\n",
       "      <td>0.0</td>\n",
       "      <td>6715.0</td>\n",
       "      <td>49.0</td>\n",
       "      <td>Altark Susent</td>\n",
       "    </tr>\n",
       "    <tr>\n",
       "      <th>3</th>\n",
       "      <td>0003_02</td>\n",
       "      <td>Europa</td>\n",
       "      <td>False</td>\n",
       "      <td>A/0/S</td>\n",
       "      <td>TRAPPIST-1e</td>\n",
       "      <td>33.0</td>\n",
       "      <td>False</td>\n",
       "      <td>0.0</td>\n",
       "      <td>1283.0</td>\n",
       "      <td>371.0</td>\n",
       "      <td>3329.0</td>\n",
       "      <td>193.0</td>\n",
       "      <td>Solam Susent</td>\n",
       "    </tr>\n",
       "    <tr>\n",
       "      <th>4</th>\n",
       "      <td>0004_01</td>\n",
       "      <td>Earth</td>\n",
       "      <td>False</td>\n",
       "      <td>F/1/S</td>\n",
       "      <td>TRAPPIST-1e</td>\n",
       "      <td>16.0</td>\n",
       "      <td>False</td>\n",
       "      <td>303.0</td>\n",
       "      <td>70.0</td>\n",
       "      <td>151.0</td>\n",
       "      <td>565.0</td>\n",
       "      <td>2.0</td>\n",
       "      <td>Willy Santantines</td>\n",
       "    </tr>\n",
       "  </tbody>\n",
       "</table>\n",
       "</div>"
      ],
      "text/plain": [
       "  passenger_id home_planet cryo_sleep  cabin  destination   age    vip  \\\n",
       "0      0001_01      Europa      False  B/0/P  TRAPPIST-1e  39.0  False   \n",
       "1      0002_01       Earth      False  F/0/S  TRAPPIST-1e  24.0  False   \n",
       "2      0003_01      Europa      False  A/0/S  TRAPPIST-1e  58.0   True   \n",
       "3      0003_02      Europa      False  A/0/S  TRAPPIST-1e  33.0  False   \n",
       "4      0004_01       Earth      False  F/1/S  TRAPPIST-1e  16.0  False   \n",
       "\n",
       "   room_service  food_court  shopping_mall     spa  vr_deck               name  \n",
       "0           0.0         0.0            0.0     0.0      0.0    Maham Ofracculy  \n",
       "1         109.0         9.0           25.0   549.0     44.0       Juanna Vines  \n",
       "2          43.0      3576.0            0.0  6715.0     49.0      Altark Susent  \n",
       "3           0.0      1283.0          371.0  3329.0    193.0       Solam Susent  \n",
       "4         303.0        70.0          151.0   565.0      2.0  Willy Santantines  "
      ]
     },
     "execution_count": 3,
     "metadata": {},
     "output_type": "execute_result"
    }
   ],
   "source": [
    "X.head()"
   ]
  },
  {
   "cell_type": "code",
   "execution_count": 4,
   "metadata": {},
   "outputs": [
    {
     "data": {
      "text/plain": [
       "0    False\n",
       "1     True\n",
       "2    False\n",
       "3    False\n",
       "4     True\n",
       "Name: transported, dtype: bool"
      ]
     },
     "execution_count": 4,
     "metadata": {},
     "output_type": "execute_result"
    }
   ],
   "source": [
    "y.head()"
   ]
  },
  {
   "attachments": {},
   "cell_type": "markdown",
   "metadata": {},
   "source": [
    "<br>\n",
    "<br>\n",
    "<br>"
   ]
  },
  {
   "attachments": {},
   "cell_type": "markdown",
   "metadata": {},
   "source": [
    "#### Data inspection"
   ]
  },
  {
   "cell_type": "code",
   "execution_count": 5,
   "metadata": {},
   "outputs": [
    {
     "data": {
      "text/plain": [
       "(8693, 13)"
      ]
     },
     "execution_count": 5,
     "metadata": {},
     "output_type": "execute_result"
    }
   ],
   "source": [
    "X.shape"
   ]
  },
  {
   "cell_type": "code",
   "execution_count": 6,
   "metadata": {},
   "outputs": [
    {
     "name": "stdout",
     "output_type": "stream",
     "text": [
      "<class 'pandas.core.frame.DataFrame'>\n",
      "RangeIndex: 8693 entries, 0 to 8692\n",
      "Data columns (total 13 columns):\n",
      " #   Column         Non-Null Count  Dtype  \n",
      "---  ------         --------------  -----  \n",
      " 0   passenger_id   8693 non-null   object \n",
      " 1   home_planet    8492 non-null   object \n",
      " 2   cryo_sleep     8476 non-null   object \n",
      " 3   cabin          8494 non-null   object \n",
      " 4   destination    8511 non-null   object \n",
      " 5   age            8514 non-null   float64\n",
      " 6   vip            8490 non-null   object \n",
      " 7   room_service   8512 non-null   float64\n",
      " 8   food_court     8510 non-null   float64\n",
      " 9   shopping_mall  8485 non-null   float64\n",
      " 10  spa            8510 non-null   float64\n",
      " 11  vr_deck        8505 non-null   float64\n",
      " 12  name           8493 non-null   object \n",
      "dtypes: float64(6), object(7)\n",
      "memory usage: 883.0+ KB\n"
     ]
    }
   ],
   "source": [
    "X.info()"
   ]
  },
  {
   "cell_type": "code",
   "execution_count": 7,
   "metadata": {},
   "outputs": [
    {
     "data": {
      "text/plain": [
       "True     4378\n",
       "False    4315\n",
       "Name: transported, dtype: int64"
      ]
     },
     "execution_count": 7,
     "metadata": {},
     "output_type": "execute_result"
    }
   ],
   "source": [
    "y.value_counts()"
   ]
  },
  {
   "attachments": {},
   "cell_type": "markdown",
   "metadata": {},
   "source": [
    "<br>\n",
    "<br>\n",
    "<br>"
   ]
  },
  {
   "attachments": {},
   "cell_type": "markdown",
   "metadata": {},
   "source": [
    "#### Data preparation"
   ]
  },
  {
   "cell_type": "code",
   "execution_count": 8,
   "metadata": {},
   "outputs": [],
   "source": [
    "# passenger_id\n",
    "passenger_id = X.passenger_id\n",
    "\n",
    "# seperating group and number in group\n",
    "group: pd.Series = passenger_id.apply(lambda x: int(x.split(\"_\")[0]))\n",
    "number_in_group: pd.Series = passenger_id.apply(lambda x: int(x.split(\"_\")[1]))"
   ]
  },
  {
   "cell_type": "code",
   "execution_count": 9,
   "metadata": {},
   "outputs": [],
   "source": [
    "# home_planet\n",
    "home_planet = X.home_planet\n",
    "\n",
    "# filling 201 null values with mode\n",
    "home_planet.fillna(value = home_planet.mode()[0], inplace=True)"
   ]
  },
  {
   "cell_type": "code",
   "execution_count": 10,
   "metadata": {},
   "outputs": [],
   "source": [
    "# cryo_sleep\n",
    "cryo_sleep = X.cryo_sleep\n",
    "\n",
    "# filling 217 null values with mode\n",
    "cryo_sleep.fillna(value = cryo_sleep.mode()[0], inplace=True)"
   ]
  },
  {
   "cell_type": "code",
   "execution_count": 11,
   "metadata": {},
   "outputs": [],
   "source": [
    "# cabin\n",
    "cabin = X.cabin\n",
    "\n",
    "# seperating deck, num and side\n",
    "deck = cabin.apply(lambda x: x.split(\"/\")[0] if pd.notna(x) else x)\n",
    "num_in_cabin = cabin.apply(lambda x: x.split(\"/\")[1] if pd.notna(x) else x)\n",
    "side = cabin.apply(lambda x: x.split(\"/\")[2] if pd.notna(x) else x)\n",
    "\n",
    "# filling 199 null values\n",
    "deck.fillna(value = deck.mode()[0], inplace=True)\n",
    "num_in_cabin.fillna(value = 0, inplace=True)\n",
    "side.fillna(value = side.mode()[0], inplace=True)"
   ]
  },
  {
   "cell_type": "code",
   "execution_count": 12,
   "metadata": {},
   "outputs": [],
   "source": [
    "# destination\n",
    "destination = X.destination\n",
    "\n",
    "# filling 182 null values with mode\n",
    "destination.fillna(value = destination.mode()[0], inplace=True)"
   ]
  },
  {
   "cell_type": "code",
   "execution_count": 13,
   "metadata": {},
   "outputs": [],
   "source": [
    "# vip\n",
    "vip = X.vip\n",
    "\n",
    "# filling 203 null values with mode\n",
    "vip.fillna(value = vip.mode()[0], inplace=True)"
   ]
  },
  {
   "cell_type": "code",
   "execution_count": 14,
   "metadata": {},
   "outputs": [],
   "source": [
    "# age\n",
    "age = X.age\n",
    "\n",
    "# filling 179 null values with median\n",
    "age.fillna(value = age.median(), inplace=True)"
   ]
  },
  {
   "cell_type": "code",
   "execution_count": 15,
   "metadata": {},
   "outputs": [],
   "source": [
    "# spendings\n",
    "room_service = X.room_service\n",
    "food_court = X.food_court\n",
    "shopping_mall = X.shopping_mall\n",
    "spa = X.spa\n",
    "vr_deck = X.vr_deck\n",
    "\n",
    "# filling null values with 0.0\n",
    "room_service.fillna(value=0.0, inplace=True)\n",
    "food_court.fillna(value=0.0, inplace=True)\n",
    "shopping_mall.fillna(value=0.0, inplace=True)\n",
    "spa.fillna(value=0.0, inplace=True)\n",
    "vr_deck.fillna(value=0.0, inplace=True)"
   ]
  },
  {
   "cell_type": "code",
   "execution_count": 16,
   "metadata": {},
   "outputs": [],
   "source": [
    "# total_spending\n",
    "total_spending = room_service + food_court + shopping_mall + spa + vr_deck"
   ]
  },
  {
   "cell_type": "code",
   "execution_count": null,
   "metadata": {},
   "outputs": [],
   "source": [
    "# ignoring name column for now"
   ]
  },
  {
   "cell_type": "code",
   "execution_count": 17,
   "metadata": {},
   "outputs": [],
   "source": [
    "X_prepared = pd.DataFrame()\n",
    "\n",
    "X_prepared[\"group\"] = group\n",
    "X_prepared[\"number_in_group\"] = number_in_group\n",
    "X_prepared[\"home_planet\"] = home_planet\n",
    "X_prepared[\"cryo_sleep\"] = cryo_sleep\n",
    "X_prepared[\"deck\"] = deck\n",
    "X_prepared[\"num_in_cabin\"] = num_in_cabin\n",
    "X_prepared[\"side\"] = side\n",
    "X_prepared[\"destination\"] = destination\n",
    "X_prepared[\"age\"] = age\n",
    "X_prepared[\"vip\"] = vip\n",
    "X_prepared[\"room_service\"] = room_service\n",
    "X_prepared[\"food_court\"] = food_court\n",
    "X_prepared[\"shopping_mall\"] = shopping_mall\n",
    "X_prepared[\"spa\"] = spa\n",
    "X_prepared[\"vr_deck\"] = vr_deck\n",
    "X_prepared[\"total_spending\"] = total_spending"
   ]
  },
  {
   "cell_type": "code",
   "execution_count": 18,
   "metadata": {},
   "outputs": [
    {
     "data": {
      "text/html": [
       "<div>\n",
       "<style scoped>\n",
       "    .dataframe tbody tr th:only-of-type {\n",
       "        vertical-align: middle;\n",
       "    }\n",
       "\n",
       "    .dataframe tbody tr th {\n",
       "        vertical-align: top;\n",
       "    }\n",
       "\n",
       "    .dataframe thead th {\n",
       "        text-align: right;\n",
       "    }\n",
       "</style>\n",
       "<table border=\"1\" class=\"dataframe\">\n",
       "  <thead>\n",
       "    <tr style=\"text-align: right;\">\n",
       "      <th></th>\n",
       "      <th>group</th>\n",
       "      <th>number_in_group</th>\n",
       "      <th>home_planet</th>\n",
       "      <th>cryo_sleep</th>\n",
       "      <th>deck</th>\n",
       "      <th>num_in_cabin</th>\n",
       "      <th>side</th>\n",
       "      <th>destination</th>\n",
       "      <th>age</th>\n",
       "      <th>vip</th>\n",
       "      <th>room_service</th>\n",
       "      <th>food_court</th>\n",
       "      <th>shopping_mall</th>\n",
       "      <th>spa</th>\n",
       "      <th>vr_deck</th>\n",
       "      <th>total_spending</th>\n",
       "    </tr>\n",
       "  </thead>\n",
       "  <tbody>\n",
       "    <tr>\n",
       "      <th>0</th>\n",
       "      <td>1</td>\n",
       "      <td>1</td>\n",
       "      <td>Europa</td>\n",
       "      <td>False</td>\n",
       "      <td>B</td>\n",
       "      <td>0</td>\n",
       "      <td>P</td>\n",
       "      <td>TRAPPIST-1e</td>\n",
       "      <td>39.0</td>\n",
       "      <td>False</td>\n",
       "      <td>0.0</td>\n",
       "      <td>0.0</td>\n",
       "      <td>0.0</td>\n",
       "      <td>0.0</td>\n",
       "      <td>0.0</td>\n",
       "      <td>0.0</td>\n",
       "    </tr>\n",
       "    <tr>\n",
       "      <th>1</th>\n",
       "      <td>2</td>\n",
       "      <td>1</td>\n",
       "      <td>Earth</td>\n",
       "      <td>False</td>\n",
       "      <td>F</td>\n",
       "      <td>0</td>\n",
       "      <td>S</td>\n",
       "      <td>TRAPPIST-1e</td>\n",
       "      <td>24.0</td>\n",
       "      <td>False</td>\n",
       "      <td>109.0</td>\n",
       "      <td>9.0</td>\n",
       "      <td>25.0</td>\n",
       "      <td>549.0</td>\n",
       "      <td>44.0</td>\n",
       "      <td>736.0</td>\n",
       "    </tr>\n",
       "    <tr>\n",
       "      <th>2</th>\n",
       "      <td>3</td>\n",
       "      <td>1</td>\n",
       "      <td>Europa</td>\n",
       "      <td>False</td>\n",
       "      <td>A</td>\n",
       "      <td>0</td>\n",
       "      <td>S</td>\n",
       "      <td>TRAPPIST-1e</td>\n",
       "      <td>58.0</td>\n",
       "      <td>True</td>\n",
       "      <td>43.0</td>\n",
       "      <td>3576.0</td>\n",
       "      <td>0.0</td>\n",
       "      <td>6715.0</td>\n",
       "      <td>49.0</td>\n",
       "      <td>10383.0</td>\n",
       "    </tr>\n",
       "    <tr>\n",
       "      <th>3</th>\n",
       "      <td>3</td>\n",
       "      <td>2</td>\n",
       "      <td>Europa</td>\n",
       "      <td>False</td>\n",
       "      <td>A</td>\n",
       "      <td>0</td>\n",
       "      <td>S</td>\n",
       "      <td>TRAPPIST-1e</td>\n",
       "      <td>33.0</td>\n",
       "      <td>False</td>\n",
       "      <td>0.0</td>\n",
       "      <td>1283.0</td>\n",
       "      <td>371.0</td>\n",
       "      <td>3329.0</td>\n",
       "      <td>193.0</td>\n",
       "      <td>5176.0</td>\n",
       "    </tr>\n",
       "    <tr>\n",
       "      <th>4</th>\n",
       "      <td>4</td>\n",
       "      <td>1</td>\n",
       "      <td>Earth</td>\n",
       "      <td>False</td>\n",
       "      <td>F</td>\n",
       "      <td>1</td>\n",
       "      <td>S</td>\n",
       "      <td>TRAPPIST-1e</td>\n",
       "      <td>16.0</td>\n",
       "      <td>False</td>\n",
       "      <td>303.0</td>\n",
       "      <td>70.0</td>\n",
       "      <td>151.0</td>\n",
       "      <td>565.0</td>\n",
       "      <td>2.0</td>\n",
       "      <td>1091.0</td>\n",
       "    </tr>\n",
       "  </tbody>\n",
       "</table>\n",
       "</div>"
      ],
      "text/plain": [
       "   group  number_in_group home_planet  cryo_sleep deck num_in_cabin side  \\\n",
       "0      1                1      Europa       False    B            0    P   \n",
       "1      2                1       Earth       False    F            0    S   \n",
       "2      3                1      Europa       False    A            0    S   \n",
       "3      3                2      Europa       False    A            0    S   \n",
       "4      4                1       Earth       False    F            1    S   \n",
       "\n",
       "   destination   age    vip  room_service  food_court  shopping_mall     spa  \\\n",
       "0  TRAPPIST-1e  39.0  False           0.0         0.0            0.0     0.0   \n",
       "1  TRAPPIST-1e  24.0  False         109.0         9.0           25.0   549.0   \n",
       "2  TRAPPIST-1e  58.0   True          43.0      3576.0            0.0  6715.0   \n",
       "3  TRAPPIST-1e  33.0  False           0.0      1283.0          371.0  3329.0   \n",
       "4  TRAPPIST-1e  16.0  False         303.0        70.0          151.0   565.0   \n",
       "\n",
       "   vr_deck  total_spending  \n",
       "0      0.0             0.0  \n",
       "1     44.0           736.0  \n",
       "2     49.0         10383.0  \n",
       "3    193.0          5176.0  \n",
       "4      2.0          1091.0  "
      ]
     },
     "execution_count": 18,
     "metadata": {},
     "output_type": "execute_result"
    }
   ],
   "source": [
    "X_prepared.head()"
   ]
  },
  {
   "cell_type": "code",
   "execution_count": 19,
   "metadata": {},
   "outputs": [
    {
     "data": {
      "text/plain": [
       "(8693, 16)"
      ]
     },
     "execution_count": 19,
     "metadata": {},
     "output_type": "execute_result"
    }
   ],
   "source": [
    "# shape of new data\n",
    "X_prepared.shape"
   ]
  },
  {
   "cell_type": "code",
   "execution_count": 20,
   "metadata": {},
   "outputs": [
    {
     "data": {
      "text/plain": [
       "False    16\n",
       "dtype: int64"
      ]
     },
     "execution_count": 20,
     "metadata": {},
     "output_type": "execute_result"
    }
   ],
   "source": [
    "# checking if any null value is present\n",
    "X_prepared.isna().any().value_counts()"
   ]
  },
  {
   "cell_type": "code",
   "execution_count": 21,
   "metadata": {},
   "outputs": [
    {
     "name": "stdout",
     "output_type": "stream",
     "text": [
      "<class 'pandas.core.frame.DataFrame'>\n",
      "RangeIndex: 8693 entries, 0 to 8692\n",
      "Data columns (total 16 columns):\n",
      " #   Column           Non-Null Count  Dtype  \n",
      "---  ------           --------------  -----  \n",
      " 0   group            8693 non-null   int64  \n",
      " 1   number_in_group  8693 non-null   int64  \n",
      " 2   home_planet      8693 non-null   object \n",
      " 3   cryo_sleep       8693 non-null   bool   \n",
      " 4   deck             8693 non-null   object \n",
      " 5   num_in_cabin     8693 non-null   object \n",
      " 6   side             8693 non-null   object \n",
      " 7   destination      8693 non-null   object \n",
      " 8   age              8693 non-null   float64\n",
      " 9   vip              8693 non-null   bool   \n",
      " 10  room_service     8693 non-null   float64\n",
      " 11  food_court       8693 non-null   float64\n",
      " 12  shopping_mall    8693 non-null   float64\n",
      " 13  spa              8693 non-null   float64\n",
      " 14  vr_deck          8693 non-null   float64\n",
      " 15  total_spending   8693 non-null   float64\n",
      "dtypes: bool(2), float64(7), int64(2), object(5)\n",
      "memory usage: 967.9+ KB\n"
     ]
    }
   ],
   "source": [
    "X_prepared.info()"
   ]
  },
  {
   "attachments": {},
   "cell_type": "markdown",
   "metadata": {},
   "source": [
    "<br>\n",
    "<br>\n",
    "<br>"
   ]
  },
  {
   "attachments": {},
   "cell_type": "markdown",
   "metadata": {},
   "source": [
    "#### Data preprocessing"
   ]
  },
  {
   "cell_type": "code",
   "execution_count": 110,
   "metadata": {},
   "outputs": [],
   "source": [
    "X_preprocessed = X_prepared.copy()"
   ]
  },
  {
   "cell_type": "code",
   "execution_count": 111,
   "metadata": {},
   "outputs": [],
   "source": [
    "# nominal encoding of categorical attributes\n",
    "cat_attributes = [\"home_planet\", \"deck\", \"side\", \"destination\"]\n",
    "\n",
    "cat_data = X_preprocessed[cat_attributes].copy()\n",
    "X_preprocessed.drop(cat_attributes, axis=1, inplace=True)\n",
    "\n",
    "dummies = pd.get_dummies(cat_data)\n",
    "X_preprocessed = pd.concat([X_preprocessed, dummies], axis=1)"
   ]
  },
  {
   "cell_type": "code",
   "execution_count": 112,
   "metadata": {},
   "outputs": [],
   "source": [
    "# converting bool to int\n",
    "X_preprocessed.cryo_sleep = X_preprocessed.cryo_sleep.apply(lambda x: 1 if x else 0)\n",
    "X_preprocessed.vip = X_preprocessed.vip.apply(lambda x: 1 if x else 0)\n",
    "\n",
    "# changing dtype to int\n",
    "X_preprocessed.num_in_cabin = X_preprocessed.num_in_cabin.astype(\"int\")"
   ]
  },
  {
   "cell_type": "code",
   "execution_count": 113,
   "metadata": {},
   "outputs": [
    {
     "data": {
      "text/plain": [
       "(8693, 28)"
      ]
     },
     "execution_count": 113,
     "metadata": {},
     "output_type": "execute_result"
    }
   ],
   "source": [
    "# shape of preprocessed data\n",
    "X_preprocessed.shape"
   ]
  },
  {
   "cell_type": "code",
   "execution_count": 114,
   "metadata": {},
   "outputs": [],
   "source": [
    "# converting bool to int \n",
    "y_preprocessed = y.apply(lambda x: 1 if x else 0)"
   ]
  },
  {
   "cell_type": "code",
   "execution_count": 115,
   "metadata": {},
   "outputs": [
    {
     "data": {
      "text/plain": [
       "(8693,)"
      ]
     },
     "execution_count": 115,
     "metadata": {},
     "output_type": "execute_result"
    }
   ],
   "source": [
    "# shape of preprocessed target\n",
    "y_preprocessed.shape"
   ]
  },
  {
   "attachments": {},
   "cell_type": "markdown",
   "metadata": {},
   "source": [
    "scaling"
   ]
  },
  {
   "cell_type": "code",
   "execution_count": 70,
   "metadata": {},
   "outputs": [],
   "source": [
    "from sklearn.preprocessing import StandardScaler"
   ]
  },
  {
   "cell_type": "code",
   "execution_count": 71,
   "metadata": {},
   "outputs": [],
   "source": [
    "features_to_scale = [\"room_service\", \"food_court\", \"shopping_mall\", \"spa\", \"vr_deck\", \"total_spending\"]\n",
    "\n",
    "# data_to_scale = X_preprocessed[features_to_scale]"
   ]
  },
  {
   "cell_type": "code",
   "execution_count": 116,
   "metadata": {},
   "outputs": [],
   "source": [
    "scaler = StandardScaler()\n",
    "data_scaled = scaler.fit_transform(X_preprocessed)\n",
    "data_scaled = pd.DataFrame(data_scaled, columns=X_preprocessed.columns)"
   ]
  },
  {
   "cell_type": "code",
   "execution_count": 76,
   "metadata": {},
   "outputs": [],
   "source": [
    "# for feature in features_to_scale:\n",
    "#     X_preprocessed[feature] = data_scaled[feature]"
   ]
  },
  {
   "attachments": {},
   "cell_type": "markdown",
   "metadata": {},
   "source": [
    "<br>\n",
    "<br>"
   ]
  },
  {
   "cell_type": "code",
   "execution_count": 117,
   "metadata": {},
   "outputs": [],
   "source": [
    "X_modelling = data_scaled.copy()"
   ]
  },
  {
   "cell_type": "code",
   "execution_count": 104,
   "metadata": {},
   "outputs": [],
   "source": [
    "# X_modelling.drop([\"total_spending\"], axis=1, inplace=True)"
   ]
  },
  {
   "cell_type": "code",
   "execution_count": 118,
   "metadata": {},
   "outputs": [
    {
     "data": {
      "text/plain": [
       "(8693, 28)"
      ]
     },
     "execution_count": 118,
     "metadata": {},
     "output_type": "execute_result"
    }
   ],
   "source": [
    "X_modelling.shape"
   ]
  },
  {
   "cell_type": "code",
   "execution_count": 119,
   "metadata": {},
   "outputs": [
    {
     "data": {
      "text/html": [
       "<div>\n",
       "<style scoped>\n",
       "    .dataframe tbody tr th:only-of-type {\n",
       "        vertical-align: middle;\n",
       "    }\n",
       "\n",
       "    .dataframe tbody tr th {\n",
       "        vertical-align: top;\n",
       "    }\n",
       "\n",
       "    .dataframe thead th {\n",
       "        text-align: right;\n",
       "    }\n",
       "</style>\n",
       "<table border=\"1\" class=\"dataframe\">\n",
       "  <thead>\n",
       "    <tr style=\"text-align: right;\">\n",
       "      <th></th>\n",
       "      <th>group</th>\n",
       "      <th>number_in_group</th>\n",
       "      <th>cryo_sleep</th>\n",
       "      <th>num_in_cabin</th>\n",
       "      <th>age</th>\n",
       "      <th>vip</th>\n",
       "      <th>room_service</th>\n",
       "      <th>food_court</th>\n",
       "      <th>shopping_mall</th>\n",
       "      <th>spa</th>\n",
       "      <th>...</th>\n",
       "      <th>deck_D</th>\n",
       "      <th>deck_E</th>\n",
       "      <th>deck_F</th>\n",
       "      <th>deck_G</th>\n",
       "      <th>deck_T</th>\n",
       "      <th>side_P</th>\n",
       "      <th>side_S</th>\n",
       "      <th>destination_55 Cancri e</th>\n",
       "      <th>destination_PSO J318.5-22</th>\n",
       "      <th>destination_TRAPPIST-1e</th>\n",
       "    </tr>\n",
       "  </thead>\n",
       "  <tbody>\n",
       "    <tr>\n",
       "      <th>0</th>\n",
       "      <td>-1.734409</td>\n",
       "      <td>-0.491161</td>\n",
       "      <td>-0.73277</td>\n",
       "      <td>-1.141624</td>\n",
       "      <td>0.711945</td>\n",
       "      <td>-0.153063</td>\n",
       "      <td>-0.333105</td>\n",
       "      <td>-0.281027</td>\n",
       "      <td>-0.283579</td>\n",
       "      <td>-0.270626</td>\n",
       "      <td>...</td>\n",
       "      <td>-0.241218</td>\n",
       "      <td>-0.334759</td>\n",
       "      <td>-0.724629</td>\n",
       "      <td>-0.645897</td>\n",
       "      <td>-0.02399</td>\n",
       "      <td>1.032865</td>\n",
       "      <td>-1.032865</td>\n",
       "      <td>-0.511013</td>\n",
       "      <td>-0.317487</td>\n",
       "      <td>0.652521</td>\n",
       "    </tr>\n",
       "    <tr>\n",
       "      <th>1</th>\n",
       "      <td>-1.734034</td>\n",
       "      <td>-0.491161</td>\n",
       "      <td>-0.73277</td>\n",
       "      <td>-1.141624</td>\n",
       "      <td>-0.334037</td>\n",
       "      <td>-0.153063</td>\n",
       "      <td>-0.168073</td>\n",
       "      <td>-0.275387</td>\n",
       "      <td>-0.241771</td>\n",
       "      <td>0.217158</td>\n",
       "      <td>...</td>\n",
       "      <td>-0.241218</td>\n",
       "      <td>-0.334759</td>\n",
       "      <td>1.380016</td>\n",
       "      <td>-0.645897</td>\n",
       "      <td>-0.02399</td>\n",
       "      <td>-0.968181</td>\n",
       "      <td>0.968181</td>\n",
       "      <td>-0.511013</td>\n",
       "      <td>-0.317487</td>\n",
       "      <td>0.652521</td>\n",
       "    </tr>\n",
       "    <tr>\n",
       "      <th>2</th>\n",
       "      <td>-1.733660</td>\n",
       "      <td>-0.491161</td>\n",
       "      <td>-0.73277</td>\n",
       "      <td>-1.141624</td>\n",
       "      <td>2.036857</td>\n",
       "      <td>6.533255</td>\n",
       "      <td>-0.268001</td>\n",
       "      <td>1.959998</td>\n",
       "      <td>-0.283579</td>\n",
       "      <td>5.695623</td>\n",
       "      <td>...</td>\n",
       "      <td>-0.241218</td>\n",
       "      <td>-0.334759</td>\n",
       "      <td>-0.724629</td>\n",
       "      <td>-0.645897</td>\n",
       "      <td>-0.02399</td>\n",
       "      <td>-0.968181</td>\n",
       "      <td>0.968181</td>\n",
       "      <td>-0.511013</td>\n",
       "      <td>-0.317487</td>\n",
       "      <td>0.652521</td>\n",
       "    </tr>\n",
       "    <tr>\n",
       "      <th>3</th>\n",
       "      <td>-1.733660</td>\n",
       "      <td>0.457443</td>\n",
       "      <td>-0.73277</td>\n",
       "      <td>-1.141624</td>\n",
       "      <td>0.293552</td>\n",
       "      <td>-0.153063</td>\n",
       "      <td>-0.333105</td>\n",
       "      <td>0.523010</td>\n",
       "      <td>0.336851</td>\n",
       "      <td>2.687176</td>\n",
       "      <td>...</td>\n",
       "      <td>-0.241218</td>\n",
       "      <td>-0.334759</td>\n",
       "      <td>-0.724629</td>\n",
       "      <td>-0.645897</td>\n",
       "      <td>-0.02399</td>\n",
       "      <td>-0.968181</td>\n",
       "      <td>0.968181</td>\n",
       "      <td>-0.511013</td>\n",
       "      <td>-0.317487</td>\n",
       "      <td>0.652521</td>\n",
       "    </tr>\n",
       "    <tr>\n",
       "      <th>4</th>\n",
       "      <td>-1.733286</td>\n",
       "      <td>-0.491161</td>\n",
       "      <td>-0.73277</td>\n",
       "      <td>-1.139678</td>\n",
       "      <td>-0.891895</td>\n",
       "      <td>-0.153063</td>\n",
       "      <td>0.125652</td>\n",
       "      <td>-0.237159</td>\n",
       "      <td>-0.031059</td>\n",
       "      <td>0.231374</td>\n",
       "      <td>...</td>\n",
       "      <td>-0.241218</td>\n",
       "      <td>-0.334759</td>\n",
       "      <td>1.380016</td>\n",
       "      <td>-0.645897</td>\n",
       "      <td>-0.02399</td>\n",
       "      <td>-0.968181</td>\n",
       "      <td>0.968181</td>\n",
       "      <td>-0.511013</td>\n",
       "      <td>-0.317487</td>\n",
       "      <td>0.652521</td>\n",
       "    </tr>\n",
       "  </tbody>\n",
       "</table>\n",
       "<p>5 rows × 28 columns</p>\n",
       "</div>"
      ],
      "text/plain": [
       "      group  number_in_group  cryo_sleep  num_in_cabin       age       vip  \\\n",
       "0 -1.734409        -0.491161    -0.73277     -1.141624  0.711945 -0.153063   \n",
       "1 -1.734034        -0.491161    -0.73277     -1.141624 -0.334037 -0.153063   \n",
       "2 -1.733660        -0.491161    -0.73277     -1.141624  2.036857  6.533255   \n",
       "3 -1.733660         0.457443    -0.73277     -1.141624  0.293552 -0.153063   \n",
       "4 -1.733286        -0.491161    -0.73277     -1.139678 -0.891895 -0.153063   \n",
       "\n",
       "   room_service  food_court  shopping_mall       spa  ...    deck_D    deck_E  \\\n",
       "0     -0.333105   -0.281027      -0.283579 -0.270626  ... -0.241218 -0.334759   \n",
       "1     -0.168073   -0.275387      -0.241771  0.217158  ... -0.241218 -0.334759   \n",
       "2     -0.268001    1.959998      -0.283579  5.695623  ... -0.241218 -0.334759   \n",
       "3     -0.333105    0.523010       0.336851  2.687176  ... -0.241218 -0.334759   \n",
       "4      0.125652   -0.237159      -0.031059  0.231374  ... -0.241218 -0.334759   \n",
       "\n",
       "     deck_F    deck_G   deck_T    side_P    side_S  destination_55 Cancri e  \\\n",
       "0 -0.724629 -0.645897 -0.02399  1.032865 -1.032865                -0.511013   \n",
       "1  1.380016 -0.645897 -0.02399 -0.968181  0.968181                -0.511013   \n",
       "2 -0.724629 -0.645897 -0.02399 -0.968181  0.968181                -0.511013   \n",
       "3 -0.724629 -0.645897 -0.02399 -0.968181  0.968181                -0.511013   \n",
       "4  1.380016 -0.645897 -0.02399 -0.968181  0.968181                -0.511013   \n",
       "\n",
       "   destination_PSO J318.5-22  destination_TRAPPIST-1e  \n",
       "0                  -0.317487                 0.652521  \n",
       "1                  -0.317487                 0.652521  \n",
       "2                  -0.317487                 0.652521  \n",
       "3                  -0.317487                 0.652521  \n",
       "4                  -0.317487                 0.652521  \n",
       "\n",
       "[5 rows x 28 columns]"
      ]
     },
     "execution_count": 119,
     "metadata": {},
     "output_type": "execute_result"
    }
   ],
   "source": [
    "X_modelling.head()"
   ]
  },
  {
   "attachments": {},
   "cell_type": "markdown",
   "metadata": {},
   "source": [
    "<br>\n",
    "<br>\n",
    "<br>"
   ]
  },
  {
   "attachments": {},
   "cell_type": "markdown",
   "metadata": {},
   "source": [
    "### Modelling"
   ]
  },
  {
   "cell_type": "code",
   "execution_count": 29,
   "metadata": {},
   "outputs": [],
   "source": [
    "from sklearn.ensemble import RandomForestClassifier\n",
    "from sklearn.metrics import accuracy_score\n",
    "from sklearn.model_selection import cross_val_score"
   ]
  },
  {
   "cell_type": "code",
   "execution_count": 124,
   "metadata": {},
   "outputs": [],
   "source": [
    "forest = RandomForestClassifier(n_estimators=200)"
   ]
  },
  {
   "cell_type": "code",
   "execution_count": 125,
   "metadata": {},
   "outputs": [
    {
     "data": {
      "text/plain": [
       "1.0"
      ]
     },
     "execution_count": 125,
     "metadata": {},
     "output_type": "execute_result"
    }
   ],
   "source": [
    "forest.fit(X_modelling, y_preprocessed)\n",
    "\n",
    "predictions = forest.predict(X_modelling)\n",
    "accuracy_score(y_preprocessed, predictions)"
   ]
  },
  {
   "cell_type": "code",
   "execution_count": 126,
   "metadata": {},
   "outputs": [
    {
     "data": {
      "text/plain": [
       "0.7714292237050115"
      ]
     },
     "execution_count": 126,
     "metadata": {},
     "output_type": "execute_result"
    }
   ],
   "source": [
    "scores = cross_val_score(forest, X_modelling, y_preprocessed, scoring=\"accuracy\", cv=5)\n",
    "scores.mean()"
   ]
  },
  {
   "cell_type": "code",
   "execution_count": 127,
   "metadata": {},
   "outputs": [
    {
     "data": {
      "text/plain": [
       "total_spending               0.118865\n",
       "num_in_cabin                 0.106247\n",
       "group                        0.106242\n",
       "age                          0.090418\n",
       "spa                          0.084475\n",
       "vr_deck                      0.076532\n",
       "room_service                 0.071379\n",
       "food_court                   0.067111\n",
       "cryo_sleep                   0.062113\n",
       "shopping_mall                0.055699\n",
       "number_in_group              0.025427\n",
       "home_planet_Earth            0.018014\n",
       "home_planet_Europa           0.013792\n",
       "deck_G                       0.012670\n",
       "deck_E                       0.012275\n",
       "deck_F                       0.011950\n",
       "side_P                       0.011212\n",
       "side_S                       0.010340\n",
       "destination_TRAPPIST-1e      0.008972\n",
       "destination_55 Cancri e      0.007749\n",
       "home_planet_Mars             0.007739\n",
       "destination_PSO J318.5-22    0.005650\n",
       "deck_C                       0.005316\n",
       "deck_B                       0.004022\n",
       "deck_D                       0.002537\n",
       "vip                          0.001662\n",
       "deck_A                       0.001562\n",
       "deck_T                       0.000028\n",
       "dtype: float64"
      ]
     },
     "execution_count": 127,
     "metadata": {},
     "output_type": "execute_result"
    }
   ],
   "source": [
    "importance = pd.Series(forest.feature_importances_, forest.feature_names_in_)\n",
    "importance.sort_values(ascending=False)"
   ]
  },
  {
   "cell_type": "code",
   "execution_count": null,
   "metadata": {},
   "outputs": [],
   "source": []
  }
 ],
 "metadata": {
  "kernelspec": {
   "display_name": "machine_learning",
   "language": "python",
   "name": "python3"
  },
  "language_info": {
   "codemirror_mode": {
    "name": "ipython",
    "version": 3
   },
   "file_extension": ".py",
   "mimetype": "text/x-python",
   "name": "python",
   "nbconvert_exporter": "python",
   "pygments_lexer": "ipython3",
   "version": "3.10.8 | packaged by conda-forge | (main, Nov 24 2022, 14:07:00) [MSC v.1916 64 bit (AMD64)]"
  },
  "orig_nbformat": 4,
  "vscode": {
   "interpreter": {
    "hash": "7e9e12bc012fae32ac9654bb37cb31a0d4c91164effa766e52fa90ec4ccf2e77"
   }
  }
 },
 "nbformat": 4,
 "nbformat_minor": 2
}
