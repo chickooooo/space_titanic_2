{
 "cells": [
  {
   "cell_type": "code",
   "execution_count": 1,
   "metadata": {},
   "outputs": [],
   "source": [
    "import pandas as pd\n",
    "from sklearn.model_selection import train_test_split\n",
    "from sklearn.pipeline import Pipeline"
   ]
  },
  {
   "cell_type": "code",
   "execution_count": 2,
   "metadata": {},
   "outputs": [],
   "source": [
    "from pipelines.data_preparation import CustomDataPreparation\n",
    "from pipelines.data_preprocessing import CustomDataPreprocessing"
   ]
  },
  {
   "cell_type": "code",
   "execution_count": 3,
   "metadata": {},
   "outputs": [],
   "source": [
    "# reading data\n",
    "data = pd.read_csv(\"./data/train.csv\")\n",
    "\n",
    "# changing column names\n",
    "new_columns = [\"passenger_id\", \"home_planet\", \"cryo_sleep\", \"cabin\", \"destination\", \"age\", \"vip\", \"room_service\", \"food_court\", \"shopping_mall\", \"spa\", \"vr_deck\", \"name\", \"transported\"]\n",
    "data.columns = new_columns\n",
    "\n",
    "# seperating X and y\n",
    "X = data.drop([\"transported\"], axis=1)\n",
    "y = data.transported"
   ]
  },
  {
   "cell_type": "code",
   "execution_count": 4,
   "metadata": {},
   "outputs": [
    {
     "data": {
      "text/html": [
       "<div>\n",
       "<style scoped>\n",
       "    .dataframe tbody tr th:only-of-type {\n",
       "        vertical-align: middle;\n",
       "    }\n",
       "\n",
       "    .dataframe tbody tr th {\n",
       "        vertical-align: top;\n",
       "    }\n",
       "\n",
       "    .dataframe thead th {\n",
       "        text-align: right;\n",
       "    }\n",
       "</style>\n",
       "<table border=\"1\" class=\"dataframe\">\n",
       "  <thead>\n",
       "    <tr style=\"text-align: right;\">\n",
       "      <th></th>\n",
       "      <th>passenger_id</th>\n",
       "      <th>home_planet</th>\n",
       "      <th>cryo_sleep</th>\n",
       "      <th>cabin</th>\n",
       "      <th>destination</th>\n",
       "      <th>age</th>\n",
       "      <th>vip</th>\n",
       "      <th>room_service</th>\n",
       "      <th>food_court</th>\n",
       "      <th>shopping_mall</th>\n",
       "      <th>spa</th>\n",
       "      <th>vr_deck</th>\n",
       "      <th>name</th>\n",
       "    </tr>\n",
       "  </thead>\n",
       "  <tbody>\n",
       "    <tr>\n",
       "      <th>0</th>\n",
       "      <td>0001_01</td>\n",
       "      <td>Europa</td>\n",
       "      <td>False</td>\n",
       "      <td>B/0/P</td>\n",
       "      <td>TRAPPIST-1e</td>\n",
       "      <td>39.0</td>\n",
       "      <td>False</td>\n",
       "      <td>0.0</td>\n",
       "      <td>0.0</td>\n",
       "      <td>0.0</td>\n",
       "      <td>0.0</td>\n",
       "      <td>0.0</td>\n",
       "      <td>Maham Ofracculy</td>\n",
       "    </tr>\n",
       "    <tr>\n",
       "      <th>1</th>\n",
       "      <td>0002_01</td>\n",
       "      <td>Earth</td>\n",
       "      <td>False</td>\n",
       "      <td>F/0/S</td>\n",
       "      <td>TRAPPIST-1e</td>\n",
       "      <td>24.0</td>\n",
       "      <td>False</td>\n",
       "      <td>109.0</td>\n",
       "      <td>9.0</td>\n",
       "      <td>25.0</td>\n",
       "      <td>549.0</td>\n",
       "      <td>44.0</td>\n",
       "      <td>Juanna Vines</td>\n",
       "    </tr>\n",
       "    <tr>\n",
       "      <th>2</th>\n",
       "      <td>0003_01</td>\n",
       "      <td>Europa</td>\n",
       "      <td>False</td>\n",
       "      <td>A/0/S</td>\n",
       "      <td>TRAPPIST-1e</td>\n",
       "      <td>58.0</td>\n",
       "      <td>True</td>\n",
       "      <td>43.0</td>\n",
       "      <td>3576.0</td>\n",
       "      <td>0.0</td>\n",
       "      <td>6715.0</td>\n",
       "      <td>49.0</td>\n",
       "      <td>Altark Susent</td>\n",
       "    </tr>\n",
       "    <tr>\n",
       "      <th>3</th>\n",
       "      <td>0003_02</td>\n",
       "      <td>Europa</td>\n",
       "      <td>False</td>\n",
       "      <td>A/0/S</td>\n",
       "      <td>TRAPPIST-1e</td>\n",
       "      <td>33.0</td>\n",
       "      <td>False</td>\n",
       "      <td>0.0</td>\n",
       "      <td>1283.0</td>\n",
       "      <td>371.0</td>\n",
       "      <td>3329.0</td>\n",
       "      <td>193.0</td>\n",
       "      <td>Solam Susent</td>\n",
       "    </tr>\n",
       "    <tr>\n",
       "      <th>4</th>\n",
       "      <td>0004_01</td>\n",
       "      <td>Earth</td>\n",
       "      <td>False</td>\n",
       "      <td>F/1/S</td>\n",
       "      <td>TRAPPIST-1e</td>\n",
       "      <td>16.0</td>\n",
       "      <td>False</td>\n",
       "      <td>303.0</td>\n",
       "      <td>70.0</td>\n",
       "      <td>151.0</td>\n",
       "      <td>565.0</td>\n",
       "      <td>2.0</td>\n",
       "      <td>Willy Santantines</td>\n",
       "    </tr>\n",
       "  </tbody>\n",
       "</table>\n",
       "</div>"
      ],
      "text/plain": [
       "  passenger_id home_planet cryo_sleep  cabin  destination   age    vip  \\\n",
       "0      0001_01      Europa      False  B/0/P  TRAPPIST-1e  39.0  False   \n",
       "1      0002_01       Earth      False  F/0/S  TRAPPIST-1e  24.0  False   \n",
       "2      0003_01      Europa      False  A/0/S  TRAPPIST-1e  58.0   True   \n",
       "3      0003_02      Europa      False  A/0/S  TRAPPIST-1e  33.0  False   \n",
       "4      0004_01       Earth      False  F/1/S  TRAPPIST-1e  16.0  False   \n",
       "\n",
       "   room_service  food_court  shopping_mall     spa  vr_deck               name  \n",
       "0           0.0         0.0            0.0     0.0      0.0    Maham Ofracculy  \n",
       "1         109.0         9.0           25.0   549.0     44.0       Juanna Vines  \n",
       "2          43.0      3576.0            0.0  6715.0     49.0      Altark Susent  \n",
       "3           0.0      1283.0          371.0  3329.0    193.0       Solam Susent  \n",
       "4         303.0        70.0          151.0   565.0      2.0  Willy Santantines  "
      ]
     },
     "execution_count": 4,
     "metadata": {},
     "output_type": "execute_result"
    }
   ],
   "source": [
    "X.head()"
   ]
  },
  {
   "cell_type": "code",
   "execution_count": 5,
   "metadata": {},
   "outputs": [],
   "source": [
    "# splitting data into training and testing set\n",
    "x_train, x_test, y_train, y_test = train_test_split(X, y, test_size=0.1, shuffle=True, random_state=42)"
   ]
  },
  {
   "cell_type": "code",
   "execution_count": 6,
   "metadata": {},
   "outputs": [
    {
     "data": {
      "text/plain": [
       "(7823, 13)"
      ]
     },
     "execution_count": 6,
     "metadata": {},
     "output_type": "execute_result"
    }
   ],
   "source": [
    "x_train.shape"
   ]
  },
  {
   "cell_type": "code",
   "execution_count": null,
   "metadata": {},
   "outputs": [],
   "source": []
  },
  {
   "attachments": {},
   "cell_type": "markdown",
   "metadata": {},
   "source": [
    "<br>\n",
    "<br>\n",
    "<br>"
   ]
  },
  {
   "cell_type": "code",
   "execution_count": 7,
   "metadata": {},
   "outputs": [],
   "source": [
    "custom_pipeline = Pipeline([\n",
    "    (\"data_preparation\", CustomDataPreparation()),\n",
    "    (\"data_preprocessing\", CustomDataPreprocessing())\n",
    "])"
   ]
  },
  {
   "cell_type": "code",
   "execution_count": 8,
   "metadata": {},
   "outputs": [],
   "source": [
    "final_data = custom_pipeline.fit_transform(x_train)"
   ]
  },
  {
   "cell_type": "code",
   "execution_count": 9,
   "metadata": {},
   "outputs": [
    {
     "data": {
      "text/html": [
       "<div>\n",
       "<style scoped>\n",
       "    .dataframe tbody tr th:only-of-type {\n",
       "        vertical-align: middle;\n",
       "    }\n",
       "\n",
       "    .dataframe tbody tr th {\n",
       "        vertical-align: top;\n",
       "    }\n",
       "\n",
       "    .dataframe thead th {\n",
       "        text-align: right;\n",
       "    }\n",
       "</style>\n",
       "<table border=\"1\" class=\"dataframe\">\n",
       "  <thead>\n",
       "    <tr style=\"text-align: right;\">\n",
       "      <th></th>\n",
       "      <th>age</th>\n",
       "      <th>room_service</th>\n",
       "      <th>food_court</th>\n",
       "      <th>shopping_mall</th>\n",
       "      <th>spa</th>\n",
       "      <th>vr_deck</th>\n",
       "      <th>group</th>\n",
       "      <th>number_in_group</th>\n",
       "      <th>num_in_cabin</th>\n",
       "      <th>total_spending</th>\n",
       "      <th>...</th>\n",
       "      <th>deck_T</th>\n",
       "      <th>side_P</th>\n",
       "      <th>side_S</th>\n",
       "      <th>age_category_child</th>\n",
       "      <th>age_category_middle_adult</th>\n",
       "      <th>age_category_old_adult</th>\n",
       "      <th>age_category_young_adult</th>\n",
       "      <th>cryo_sleep</th>\n",
       "      <th>vip</th>\n",
       "      <th>gender</th>\n",
       "    </tr>\n",
       "  </thead>\n",
       "  <tbody>\n",
       "    <tr>\n",
       "      <th>1432</th>\n",
       "      <td>0.235294</td>\n",
       "      <td>31.435897</td>\n",
       "      <td>0.000000</td>\n",
       "      <td>0.045455</td>\n",
       "      <td>0.000000</td>\n",
       "      <td>0.000000</td>\n",
       "      <td>-0.689033</td>\n",
       "      <td>0.0</td>\n",
       "      <td>-0.144231</td>\n",
       "      <td>0.353430</td>\n",
       "      <td>...</td>\n",
       "      <td>0</td>\n",
       "      <td>0</td>\n",
       "      <td>1</td>\n",
       "      <td>0</td>\n",
       "      <td>1</td>\n",
       "      <td>0</td>\n",
       "      <td>0</td>\n",
       "      <td>0</td>\n",
       "      <td>0</td>\n",
       "      <td>1.0</td>\n",
       "    </tr>\n",
       "    <tr>\n",
       "      <th>6858</th>\n",
       "      <td>-0.058824</td>\n",
       "      <td>0.000000</td>\n",
       "      <td>12.892086</td>\n",
       "      <td>0.000000</td>\n",
       "      <td>11.896552</td>\n",
       "      <td>0.024691</td>\n",
       "      <td>0.574414</td>\n",
       "      <td>0.0</td>\n",
       "      <td>-0.223558</td>\n",
       "      <td>0.602911</td>\n",
       "      <td>...</td>\n",
       "      <td>0</td>\n",
       "      <td>1</td>\n",
       "      <td>0</td>\n",
       "      <td>0</td>\n",
       "      <td>0</td>\n",
       "      <td>0</td>\n",
       "      <td>1</td>\n",
       "      <td>0</td>\n",
       "      <td>0</td>\n",
       "      <td>1.0</td>\n",
       "    </tr>\n",
       "    <tr>\n",
       "      <th>4436</th>\n",
       "      <td>-0.176471</td>\n",
       "      <td>0.000000</td>\n",
       "      <td>0.000000</td>\n",
       "      <td>0.000000</td>\n",
       "      <td>0.000000</td>\n",
       "      <td>0.000000</td>\n",
       "      <td>0.015840</td>\n",
       "      <td>0.0</td>\n",
       "      <td>0.425481</td>\n",
       "      <td>-0.496881</td>\n",
       "      <td>...</td>\n",
       "      <td>0</td>\n",
       "      <td>1</td>\n",
       "      <td>0</td>\n",
       "      <td>0</td>\n",
       "      <td>0</td>\n",
       "      <td>0</td>\n",
       "      <td>1</td>\n",
       "      <td>1</td>\n",
       "      <td>0</td>\n",
       "      <td>1.0</td>\n",
       "    </tr>\n",
       "    <tr>\n",
       "      <th>7230</th>\n",
       "      <td>0.352941</td>\n",
       "      <td>0.000000</td>\n",
       "      <td>0.000000</td>\n",
       "      <td>0.000000</td>\n",
       "      <td>7.517241</td>\n",
       "      <td>5.530864</td>\n",
       "      <td>0.678693</td>\n",
       "      <td>0.0</td>\n",
       "      <td>0.115385</td>\n",
       "      <td>-0.039501</td>\n",
       "      <td>...</td>\n",
       "      <td>0</td>\n",
       "      <td>0</td>\n",
       "      <td>1</td>\n",
       "      <td>0</td>\n",
       "      <td>1</td>\n",
       "      <td>0</td>\n",
       "      <td>0</td>\n",
       "      <td>0</td>\n",
       "      <td>0</td>\n",
       "      <td>0.0</td>\n",
       "    </tr>\n",
       "    <tr>\n",
       "      <th>2992</th>\n",
       "      <td>-0.352941</td>\n",
       "      <td>28.128205</td>\n",
       "      <td>0.000000</td>\n",
       "      <td>3.636364</td>\n",
       "      <td>10.155172</td>\n",
       "      <td>0.000000</td>\n",
       "      <td>-0.309097</td>\n",
       "      <td>0.0</td>\n",
       "      <td>-0.368990</td>\n",
       "      <td>0.726958</td>\n",
       "      <td>...</td>\n",
       "      <td>0</td>\n",
       "      <td>1</td>\n",
       "      <td>0</td>\n",
       "      <td>0</td>\n",
       "      <td>0</td>\n",
       "      <td>0</td>\n",
       "      <td>1</td>\n",
       "      <td>0</td>\n",
       "      <td>0</td>\n",
       "      <td>1.0</td>\n",
       "    </tr>\n",
       "  </tbody>\n",
       "</table>\n",
       "<p>5 rows × 33 columns</p>\n",
       "</div>"
      ],
      "text/plain": [
       "           age  room_service  food_court  shopping_mall        spa   vr_deck  \\\n",
       "1432  0.235294     31.435897    0.000000       0.045455   0.000000  0.000000   \n",
       "6858 -0.058824      0.000000   12.892086       0.000000  11.896552  0.024691   \n",
       "4436 -0.176471      0.000000    0.000000       0.000000   0.000000  0.000000   \n",
       "7230  0.352941      0.000000    0.000000       0.000000   7.517241  5.530864   \n",
       "2992 -0.352941     28.128205    0.000000       3.636364  10.155172  0.000000   \n",
       "\n",
       "         group  number_in_group  num_in_cabin  total_spending  ...  deck_T  \\\n",
       "1432 -0.689033              0.0     -0.144231        0.353430  ...       0   \n",
       "6858  0.574414              0.0     -0.223558        0.602911  ...       0   \n",
       "4436  0.015840              0.0      0.425481       -0.496881  ...       0   \n",
       "7230  0.678693              0.0      0.115385       -0.039501  ...       0   \n",
       "2992 -0.309097              0.0     -0.368990        0.726958  ...       0   \n",
       "\n",
       "      side_P  side_S  age_category_child  age_category_middle_adult  \\\n",
       "1432       0       1                   0                          1   \n",
       "6858       1       0                   0                          0   \n",
       "4436       1       0                   0                          0   \n",
       "7230       0       1                   0                          1   \n",
       "2992       1       0                   0                          0   \n",
       "\n",
       "      age_category_old_adult  age_category_young_adult  cryo_sleep  vip  \\\n",
       "1432                       0                         0           0    0   \n",
       "6858                       0                         1           0    0   \n",
       "4436                       0                         1           1    0   \n",
       "7230                       0                         0           0    0   \n",
       "2992                       0                         1           0    0   \n",
       "\n",
       "      gender  \n",
       "1432     1.0  \n",
       "6858     1.0  \n",
       "4436     1.0  \n",
       "7230     0.0  \n",
       "2992     1.0  \n",
       "\n",
       "[5 rows x 33 columns]"
      ]
     },
     "execution_count": 9,
     "metadata": {},
     "output_type": "execute_result"
    }
   ],
   "source": [
    "final_data.head()"
   ]
  },
  {
   "cell_type": "code",
   "execution_count": 10,
   "metadata": {},
   "outputs": [
    {
     "data": {
      "text/plain": [
       "(7823, 33)"
      ]
     },
     "execution_count": 10,
     "metadata": {},
     "output_type": "execute_result"
    }
   ],
   "source": [
    "final_data.shape"
   ]
  },
  {
   "cell_type": "code",
   "execution_count": 11,
   "metadata": {},
   "outputs": [
    {
     "data": {
      "text/plain": [
       "False    33\n",
       "dtype: int64"
      ]
     },
     "execution_count": 11,
     "metadata": {},
     "output_type": "execute_result"
    }
   ],
   "source": [
    "final_data.isna().any().value_counts()"
   ]
  },
  {
   "cell_type": "code",
   "execution_count": 17,
   "metadata": {},
   "outputs": [],
   "source": [
    "final_y = y_train.apply(lambda x: 1 if x else 0)"
   ]
  },
  {
   "cell_type": "code",
   "execution_count": 18,
   "metadata": {},
   "outputs": [
    {
     "data": {
      "text/plain": [
       "1432    0\n",
       "6858    1\n",
       "4436    0\n",
       "7230    1\n",
       "2992    0\n",
       "Name: transported, dtype: int64"
      ]
     },
     "execution_count": 18,
     "metadata": {},
     "output_type": "execute_result"
    }
   ],
   "source": [
    "final_y.head()"
   ]
  },
  {
   "attachments": {},
   "cell_type": "markdown",
   "metadata": {},
   "source": [
    "<br>\n",
    "<br>\n",
    "<br>"
   ]
  },
  {
   "cell_type": "code",
   "execution_count": 14,
   "metadata": {},
   "outputs": [],
   "source": [
    "from sklearn.ensemble import RandomForestClassifier\n",
    "from sklearn.model_selection import cross_val_score\n",
    "from sklearn.metrics import accuracy_score"
   ]
  },
  {
   "cell_type": "code",
   "execution_count": 59,
   "metadata": {},
   "outputs": [],
   "source": [
    "forest = RandomForestClassifier()"
   ]
  },
  {
   "cell_type": "code",
   "execution_count": 60,
   "metadata": {},
   "outputs": [
    {
     "data": {
      "text/plain": [
       "1.0"
      ]
     },
     "execution_count": 60,
     "metadata": {},
     "output_type": "execute_result"
    }
   ],
   "source": [
    "forest.fit(final_data, final_y)\n",
    "\n",
    "predictions = forest.predict(final_data)\n",
    "accuracy_score(final_y, predictions)"
   ]
  },
  {
   "cell_type": "code",
   "execution_count": 61,
   "metadata": {},
   "outputs": [
    {
     "data": {
      "text/plain": [
       "0.8051902153498416"
      ]
     },
     "execution_count": 61,
     "metadata": {},
     "output_type": "execute_result"
    }
   ],
   "source": [
    "scores = cross_val_score(forest, final_data, final_y, scoring=\"accuracy\", cv=10)\n",
    "scores.mean()"
   ]
  },
  {
   "attachments": {},
   "cell_type": "markdown",
   "metadata": {},
   "source": [
    "<br>"
   ]
  },
  {
   "cell_type": "code",
   "execution_count": 42,
   "metadata": {},
   "outputs": [],
   "source": [
    "final_test_data = custom_pipeline.transform(x_test)"
   ]
  },
  {
   "cell_type": "code",
   "execution_count": 47,
   "metadata": {},
   "outputs": [],
   "source": [
    "final_test_data[\"deck_T\"] = 0"
   ]
  },
  {
   "cell_type": "code",
   "execution_count": 51,
   "metadata": {},
   "outputs": [
    {
     "data": {
      "text/html": [
       "<div>\n",
       "<style scoped>\n",
       "    .dataframe tbody tr th:only-of-type {\n",
       "        vertical-align: middle;\n",
       "    }\n",
       "\n",
       "    .dataframe tbody tr th {\n",
       "        vertical-align: top;\n",
       "    }\n",
       "\n",
       "    .dataframe thead th {\n",
       "        text-align: right;\n",
       "    }\n",
       "</style>\n",
       "<table border=\"1\" class=\"dataframe\">\n",
       "  <thead>\n",
       "    <tr style=\"text-align: right;\">\n",
       "      <th></th>\n",
       "      <th>age</th>\n",
       "      <th>room_service</th>\n",
       "      <th>food_court</th>\n",
       "      <th>shopping_mall</th>\n",
       "      <th>spa</th>\n",
       "      <th>vr_deck</th>\n",
       "      <th>group</th>\n",
       "      <th>number_in_group</th>\n",
       "      <th>num_in_cabin</th>\n",
       "      <th>total_spending</th>\n",
       "      <th>...</th>\n",
       "      <th>deck_T</th>\n",
       "      <th>side_P</th>\n",
       "      <th>side_S</th>\n",
       "      <th>age_category_child</th>\n",
       "      <th>age_category_middle_adult</th>\n",
       "      <th>age_category_old_adult</th>\n",
       "      <th>age_category_young_adult</th>\n",
       "      <th>cryo_sleep</th>\n",
       "      <th>vip</th>\n",
       "      <th>gender</th>\n",
       "    </tr>\n",
       "  </thead>\n",
       "  <tbody>\n",
       "    <tr>\n",
       "      <th>304</th>\n",
       "      <td>-0.470588</td>\n",
       "      <td>10.692308</td>\n",
       "      <td>5.021583</td>\n",
       "      <td>28.818182</td>\n",
       "      <td>0.051724</td>\n",
       "      <td>26.098765</td>\n",
       "      <td>-0.947091</td>\n",
       "      <td>1.0</td>\n",
       "      <td>-0.418269</td>\n",
       "      <td>1.207900</td>\n",
       "      <td>...</td>\n",
       "      <td>0</td>\n",
       "      <td>0</td>\n",
       "      <td>1</td>\n",
       "      <td>0</td>\n",
       "      <td>0</td>\n",
       "      <td>0</td>\n",
       "      <td>1</td>\n",
       "      <td>0</td>\n",
       "      <td>0</td>\n",
       "      <td>1.0</td>\n",
       "    </tr>\n",
       "    <tr>\n",
       "      <th>2697</th>\n",
       "      <td>-0.529412</td>\n",
       "      <td>0.102564</td>\n",
       "      <td>13.007194</td>\n",
       "      <td>0.000000</td>\n",
       "      <td>0.000000</td>\n",
       "      <td>0.024691</td>\n",
       "      <td>-0.385216</td>\n",
       "      <td>0.0</td>\n",
       "      <td>0.058894</td>\n",
       "      <td>0.133056</td>\n",
       "      <td>...</td>\n",
       "      <td>0</td>\n",
       "      <td>0</td>\n",
       "      <td>1</td>\n",
       "      <td>0</td>\n",
       "      <td>0</td>\n",
       "      <td>0</td>\n",
       "      <td>1</td>\n",
       "      <td>0</td>\n",
       "      <td>0</td>\n",
       "      <td>0.0</td>\n",
       "    </tr>\n",
       "    <tr>\n",
       "      <th>8424</th>\n",
       "      <td>0.823529</td>\n",
       "      <td>0.000000</td>\n",
       "      <td>0.000000</td>\n",
       "      <td>0.000000</td>\n",
       "      <td>0.000000</td>\n",
       "      <td>0.000000</td>\n",
       "      <td>0.958310</td>\n",
       "      <td>0.0</td>\n",
       "      <td>1.247596</td>\n",
       "      <td>-0.496881</td>\n",
       "      <td>...</td>\n",
       "      <td>0</td>\n",
       "      <td>0</td>\n",
       "      <td>1</td>\n",
       "      <td>0</td>\n",
       "      <td>1</td>\n",
       "      <td>0</td>\n",
       "      <td>0</td>\n",
       "      <td>1</td>\n",
       "      <td>0</td>\n",
       "      <td>0.0</td>\n",
       "    </tr>\n",
       "    <tr>\n",
       "      <th>1672</th>\n",
       "      <td>0.470588</td>\n",
       "      <td>0.000000</td>\n",
       "      <td>4.863309</td>\n",
       "      <td>19.818182</td>\n",
       "      <td>0.000000</td>\n",
       "      <td>0.000000</td>\n",
       "      <td>-0.631614</td>\n",
       "      <td>0.0</td>\n",
       "      <td>-0.144231</td>\n",
       "      <td>0.039501</td>\n",
       "      <td>...</td>\n",
       "      <td>0</td>\n",
       "      <td>1</td>\n",
       "      <td>0</td>\n",
       "      <td>0</td>\n",
       "      <td>1</td>\n",
       "      <td>0</td>\n",
       "      <td>0</td>\n",
       "      <td>0</td>\n",
       "      <td>0</td>\n",
       "      <td>0.0</td>\n",
       "    </tr>\n",
       "    <tr>\n",
       "      <th>8458</th>\n",
       "      <td>0.941176</td>\n",
       "      <td>0.000000</td>\n",
       "      <td>0.000000</td>\n",
       "      <td>0.000000</td>\n",
       "      <td>0.000000</td>\n",
       "      <td>0.000000</td>\n",
       "      <td>0.966230</td>\n",
       "      <td>1.0</td>\n",
       "      <td>-0.147837</td>\n",
       "      <td>-0.496881</td>\n",
       "      <td>...</td>\n",
       "      <td>0</td>\n",
       "      <td>1</td>\n",
       "      <td>0</td>\n",
       "      <td>0</td>\n",
       "      <td>1</td>\n",
       "      <td>0</td>\n",
       "      <td>0</td>\n",
       "      <td>1</td>\n",
       "      <td>0</td>\n",
       "      <td>1.0</td>\n",
       "    </tr>\n",
       "  </tbody>\n",
       "</table>\n",
       "<p>5 rows × 33 columns</p>\n",
       "</div>"
      ],
      "text/plain": [
       "           age  room_service  food_court  shopping_mall       spa    vr_deck  \\\n",
       "304  -0.470588     10.692308    5.021583      28.818182  0.051724  26.098765   \n",
       "2697 -0.529412      0.102564   13.007194       0.000000  0.000000   0.024691   \n",
       "8424  0.823529      0.000000    0.000000       0.000000  0.000000   0.000000   \n",
       "1672  0.470588      0.000000    4.863309      19.818182  0.000000   0.000000   \n",
       "8458  0.941176      0.000000    0.000000       0.000000  0.000000   0.000000   \n",
       "\n",
       "         group  number_in_group  num_in_cabin  total_spending  ...  deck_T  \\\n",
       "304  -0.947091              1.0     -0.418269        1.207900  ...       0   \n",
       "2697 -0.385216              0.0      0.058894        0.133056  ...       0   \n",
       "8424  0.958310              0.0      1.247596       -0.496881  ...       0   \n",
       "1672 -0.631614              0.0     -0.144231        0.039501  ...       0   \n",
       "8458  0.966230              1.0     -0.147837       -0.496881  ...       0   \n",
       "\n",
       "      side_P  side_S  age_category_child  age_category_middle_adult  \\\n",
       "304        0       1                   0                          0   \n",
       "2697       0       1                   0                          0   \n",
       "8424       0       1                   0                          1   \n",
       "1672       1       0                   0                          1   \n",
       "8458       1       0                   0                          1   \n",
       "\n",
       "      age_category_old_adult  age_category_young_adult  cryo_sleep  vip  \\\n",
       "304                        0                         1           0    0   \n",
       "2697                       0                         1           0    0   \n",
       "8424                       0                         0           1    0   \n",
       "1672                       0                         0           0    0   \n",
       "8458                       0                         0           1    0   \n",
       "\n",
       "      gender  \n",
       "304      1.0  \n",
       "2697     0.0  \n",
       "8424     0.0  \n",
       "1672     0.0  \n",
       "8458     1.0  \n",
       "\n",
       "[5 rows x 33 columns]"
      ]
     },
     "execution_count": 51,
     "metadata": {},
     "output_type": "execute_result"
    }
   ],
   "source": [
    "final_test_data.head()"
   ]
  },
  {
   "cell_type": "code",
   "execution_count": 44,
   "metadata": {},
   "outputs": [
    {
     "data": {
      "text/plain": [
       "False    32\n",
       "dtype: int64"
      ]
     },
     "execution_count": 44,
     "metadata": {},
     "output_type": "execute_result"
    }
   ],
   "source": [
    "final_test_data.isna().any().value_counts()"
   ]
  },
  {
   "cell_type": "code",
   "execution_count": 49,
   "metadata": {},
   "outputs": [],
   "source": [
    "final_test_data = final_test_data[['age', 'room_service', 'food_court', 'shopping_mall', 'spa', 'vr_deck',\n",
    "       'group', 'number_in_group', 'num_in_cabin', 'total_spending',\n",
    "       'home_planet_Earth', 'home_planet_Europa', 'home_planet_Mars',\n",
    "       'destination_55 Cancri e', 'destination_PSO J318.5-22',\n",
    "       'destination_TRAPPIST-1e', 'deck_A', 'deck_B', 'deck_C', 'deck_D',\n",
    "       'deck_E', 'deck_F', 'deck_G', 'deck_T', 'side_P', 'side_S',\n",
    "       'age_category_child', 'age_category_middle_adult',\n",
    "       'age_category_old_adult', 'age_category_young_adult', 'cryo_sleep',\n",
    "       'vip', 'gender']]"
   ]
  },
  {
   "cell_type": "code",
   "execution_count": 50,
   "metadata": {},
   "outputs": [
    {
     "data": {
      "text/plain": [
       "(870, 33)"
      ]
     },
     "execution_count": 50,
     "metadata": {},
     "output_type": "execute_result"
    }
   ],
   "source": [
    "final_test_data.shape"
   ]
  },
  {
   "cell_type": "code",
   "execution_count": 52,
   "metadata": {},
   "outputs": [],
   "source": [
    "final_test_y = y_test.apply(lambda x: 1 if x else 0)"
   ]
  },
  {
   "cell_type": "code",
   "execution_count": 54,
   "metadata": {},
   "outputs": [
    {
     "data": {
      "text/plain": [
       "(870,)"
      ]
     },
     "execution_count": 54,
     "metadata": {},
     "output_type": "execute_result"
    }
   ],
   "source": [
    "final_test_y.shape"
   ]
  },
  {
   "attachments": {},
   "cell_type": "markdown",
   "metadata": {},
   "source": [
    "<br>"
   ]
  },
  {
   "cell_type": "code",
   "execution_count": 62,
   "metadata": {},
   "outputs": [
    {
     "data": {
      "text/plain": [
       "0.7793103448275862"
      ]
     },
     "execution_count": 62,
     "metadata": {},
     "output_type": "execute_result"
    }
   ],
   "source": [
    "predictions = forest.predict(final_test_data)\n",
    "accuracy_score(final_test_y, predictions)"
   ]
  },
  {
   "cell_type": "code",
   "execution_count": null,
   "metadata": {},
   "outputs": [],
   "source": []
  }
 ],
 "metadata": {
  "kernelspec": {
   "display_name": "machine_learning",
   "language": "python",
   "name": "python3"
  },
  "language_info": {
   "codemirror_mode": {
    "name": "ipython",
    "version": 3
   },
   "file_extension": ".py",
   "mimetype": "text/x-python",
   "name": "python",
   "nbconvert_exporter": "python",
   "pygments_lexer": "ipython3",
   "version": "3.10.8"
  },
  "orig_nbformat": 4,
  "vscode": {
   "interpreter": {
    "hash": "7e9e12bc012fae32ac9654bb37cb31a0d4c91164effa766e52fa90ec4ccf2e77"
   }
  }
 },
 "nbformat": 4,
 "nbformat_minor": 2
}
